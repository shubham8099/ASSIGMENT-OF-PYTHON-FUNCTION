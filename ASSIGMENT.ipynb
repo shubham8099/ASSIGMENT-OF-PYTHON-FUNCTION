{
 "cells": [
  {
   "cell_type": "raw",
   "id": "ed00531a-6aa1-4e7b-9d44-3bb981c271ff",
   "metadata": {},
   "source": [
    "Q1. Which keyword is used to create a function? Create a function to return a list of odd numbers in the range of 1 to 25 ."
   ]
  },
  {
   "cell_type": "raw",
   "id": "b9eb304c-b7f3-4825-853c-5eafa465f665",
   "metadata": {},
   "source": [
    "ANSWER = def test() is used to create a function \n",
    "        where def is known as defination.\n",
    "        \n",
    "let us taking an example to perform the task ."
   ]
  },
  {
   "cell_type": "code",
   "execution_count": 2,
   "id": "69bb855e-2555-4539-842e-af06183323b4",
   "metadata": {},
   "outputs": [],
   "source": [
    "l = [1,2,3,4,5,6,7,8,9,10,11,12,13,14,15,16,17,18,19,20,21,22,23,24,25]"
   ]
  },
  {
   "cell_type": "code",
   "execution_count": 3,
   "id": "ae59cb4e-b501-47bd-ae26-bc1e1b6fcea8",
   "metadata": {},
   "outputs": [
    {
     "data": {
      "text/plain": [
       "[1, 3, 5, 7, 9, 11, 13, 15, 17, 19, 21, 23, 25]"
      ]
     },
     "execution_count": 3,
     "metadata": {},
     "output_type": "execute_result"
    }
   ],
   "source": [
    "list(filter(lambda x : x%2 != 0 ,l))"
   ]
  },
  {
   "cell_type": "code",
   "execution_count": 1,
   "id": "e0cc432e-3607-4058-ab69-b04179e8ccda",
   "metadata": {},
   "outputs": [],
   "source": [
    "#this is filter function which is filter the data and give us after filteration."
   ]
  },
  {
   "cell_type": "raw",
   "id": "ac63f33c-3110-4993-8ac0-c2c1c90632c3",
   "metadata": {},
   "source": [
    "Q2. Why *args and **kwargs is used in some functions? Create a function each for *args and **kwargs to demonstrate their use."
   ]
  },
  {
   "cell_type": "raw",
   "id": "6e9f5ec8-0544-4286-a100-2a9ac8e6ce4e",
   "metadata": {},
   "source": [
    "ANSWER = *args and **kwrags used in some function because \n",
    "        In some case of data we unsure the number of arguments to \n",
    "        pass in the functions . And some new data is adding on the \n",
    "        data so with the help of *args and **kwargs we add the some \n",
    "        new data easily.\n",
    "\n",
    "let us takings some an examples in which we add some new data with the help of *args\n",
    "and **kwargs"
   ]
  },
  {
   "cell_type": "code",
   "execution_count": 11,
   "id": "dbedc675-00b2-4ac4-9ee0-e779dcac7db3",
   "metadata": {},
   "outputs": [],
   "source": [
    "l = [1,2,3,4,5,6,7,8,9,10,11,12]"
   ]
  },
  {
   "cell_type": "code",
   "execution_count": 10,
   "id": "cf58c112-01ef-45d5-a668-3a03f7eb444b",
   "metadata": {},
   "outputs": [],
   "source": [
    "def test(*s):    #THIS IS THE EXAMPLE OF ARGS\n",
    "    print(s)"
   ]
  },
  {
   "cell_type": "code",
   "execution_count": 13,
   "id": "79299521-bc16-405c-b1a8-1814ec3d83a1",
   "metadata": {},
   "outputs": [
    {
     "name": "stdout",
     "output_type": "stream",
     "text": [
      "([1, 2, 3, 4, 5, 6, 7, 8, 9, 10, 11, 12],)\n"
     ]
    }
   ],
   "source": [
    "test(l) "
   ]
  },
  {
   "cell_type": "raw",
   "id": "4549cc7a-4ea3-477d-86f6-2601f7b85d65",
   "metadata": {},
   "source": [
    "Now we adding some new data like 9,10,11,12 in list l and perfoming the *args"
   ]
  },
  {
   "cell_type": "raw",
   "id": "c96fbf2b-642f-4f55-a5dd-86037124a175",
   "metadata": {},
   "source": [
    "Above examples shows the how new data easily add on the list with help of *args"
   ]
  },
  {
   "cell_type": "raw",
   "id": "cc0cfdb1-2e7a-42d6-bf0f-5c40359ba52f",
   "metadata": {},
   "source": [
    "Now we taking another examples of **kwargs ."
   ]
  },
  {
   "cell_type": "code",
   "execution_count": 9,
   "id": "202bafd9-9a0d-43f1-9163-1decb9ab1a6e",
   "metadata": {},
   "outputs": [],
   "source": [
    "def function_name(**kwargs):\n",
    "    for key, value in kwargs.items():\n",
    "        print(key,value)"
   ]
  },
  {
   "cell_type": "code",
   "execution_count": 10,
   "id": "b5b94a56-28c8-4f43-bcf0-88fdfabd5ab4",
   "metadata": {},
   "outputs": [
    {
     "name": "stdout",
     "output_type": "stream",
     "text": [
      "f1 shubham\n",
      "f2 shah\n"
     ]
    }
   ],
   "source": [
    "function_name(f1 = \"shubham\" , f2 = \"shah\")         "
   ]
  },
  {
   "cell_type": "raw",
   "id": "bd3bfa5e-fc3b-48a9-97c6-90266571f57c",
   "metadata": {},
   "source": [
    "Above exaple show the uses of kwargs \n"
   ]
  },
  {
   "cell_type": "code",
   "execution_count": null,
   "id": "60cafa54-1548-46f2-bef7-681279c4755c",
   "metadata": {},
   "outputs": [],
   "source": [
    "Q3.  What is an iterator in python? Name the method used to initialise the iterator object and the method\n",
    "used for iteration. Use these methods to print the first five elements of the given list [2, 4, 6, 8, 10, 12, 14,\n",
    "16, 18, 20]."
   ]
  },
  {
   "cell_type": "raw",
   "id": "a3c6b0a3-c0b7-4205-b686-2336571bc6ab",
   "metadata": {},
   "source": [
    "ITERATOR = ITERATOR IS THE TYPE OF FUNCTION IN WHICH THEY MAKE \n",
    "           TO USE DATA LIKE LOOP AND NEXT AND NEXT WE CAN USE \n",
    "           MANY TIMES .\n",
    "           \n",
    "ITREABLE = ITREABLE METHOD IS USED FOR TO INITIALISE THE ITERATOR OBJECT \n",
    "            IN THIS PROCESS THE ITREABLE CHANGE THE ITERATOR OBJECT \n",
    "            INTO THE ITREABLE AND SEND THE OBJECT OF NEXT PROCESS.\n",
    "            \n",
    "LET US WE TAKING AN EXAMPLE             "
   ]
  },
  {
   "cell_type": "code",
   "execution_count": 10,
   "id": "d218a352-e17d-4ae6-888e-fe5b68b58eac",
   "metadata": {},
   "outputs": [],
   "source": [
    "count_test= [ 2,4,6,8,10,12,14,16,18,20]"
   ]
  },
  {
   "cell_type": "code",
   "execution_count": 76,
   "id": "c5fbd2f3-62b3-4572-bf12-30c85639bda8",
   "metadata": {},
   "outputs": [],
   "source": [
    "def count_test(n):\n",
    "    count = 2\n",
    "    while count < 12:\n",
    "        yield count \n",
    "        count+=2\n",
    "    \n",
    "        \n",
    "               \n",
    "\n",
    "    \n",
    "    \n",
    "        \n",
    "    "
   ]
  },
  {
   "cell_type": "code",
   "execution_count": 74,
   "id": "e511ae02-8204-4d20-8754-271ea87853b3",
   "metadata": {},
   "outputs": [],
   "source": [
    "s = count_test(l)"
   ]
  },
  {
   "cell_type": "code",
   "execution_count": 75,
   "id": "f6a538c8-979d-4b8b-9399-098f21e3fcf9",
   "metadata": {},
   "outputs": [
    {
     "name": "stdout",
     "output_type": "stream",
     "text": [
      "2\n",
      "4\n",
      "6\n",
      "8\n",
      "10\n"
     ]
    }
   ],
   "source": [
    "for i in s:\n",
    "    print(i)"
   ]
  },
  {
   "cell_type": "raw",
   "id": "2c60ad05-3c2e-42d6-8fc7-da97d9bbcc44",
   "metadata": {},
   "source": [
    "THIS IS THE EXAMPLE OF ITERABLE"
   ]
  },
  {
   "cell_type": "raw",
   "id": "d50fa807-ea17-49d1-ac50-5653a936e565",
   "metadata": {},
   "source": [
    "Q4.  What is a generator function in python? Why yield keyword is used? Give an example of a generator function ."
   ]
  },
  {
   "cell_type": "raw",
   "id": "ae0562cf-0ee2-4176-9c88-8e9bfaca9ef8",
   "metadata": {},
   "source": [
    "Q4.  What is a generator function in python? Why yield keyword is used? Give an example of a generator function .\n"
   ]
  },
  {
   "cell_type": "raw",
   "id": "82a4801d-cca9-401a-bdc2-7acebd6118d9",
   "metadata": {},
   "source": [
    "GENERATOR FUNCTION = GENERATOR FUNCTION PERFORM LIKE ITERATOR \n",
    "                     THEY MAKE THEM TO DO WORK FASTER AND PERFORM\n",
    "                     THE TASK FASTLY . THEY PROVIDE FASTER WAY TO CREATE\n",
    "                     ITERATOR. WE MAKE MAKE GENERATOR FUNCTION BY USING \n",
    "                     YIELD.\n",
    "                     \n",
    "LET US TAKING AN EXAMPLE OF GENERATOR .                     "
   ]
  },
  {
   "cell_type": "code",
   "execution_count": 3,
   "id": "c2e910fe-4460-4b67-a667-05e16ea2cdb5",
   "metadata": {},
   "outputs": [],
   "source": [
    "def test(n):\n",
    "    a,b = 0,1\n",
    "    for i in range(n):\n",
    "        yield a   # this is the yield key from here we can start generator function.\n",
    "        a,b = b , a+b\n",
    "    "
   ]
  },
  {
   "cell_type": "code",
   "execution_count": 4,
   "id": "e920caf0-caf7-4160-9508-a3589987cf6b",
   "metadata": {},
   "outputs": [
    {
     "data": {
      "text/plain": [
       "<generator object test at 0x7f7e8dc35a10>"
      ]
     },
     "execution_count": 4,
     "metadata": {},
     "output_type": "execute_result"
    }
   ],
   "source": [
    "test(10)"
   ]
  },
  {
   "cell_type": "code",
   "execution_count": 7,
   "id": "b2c94664-9c27-4c0b-a5b8-d62e18389fe5",
   "metadata": {},
   "outputs": [
    {
     "name": "stdout",
     "output_type": "stream",
     "text": [
      "0\n",
      "1\n",
      "1\n",
      "2\n",
      "3\n",
      "5\n",
      "8\n",
      "13\n",
      "21\n",
      "34\n"
     ]
    }
   ],
   "source": [
    "for i in test(10):\n",
    "    print(i)"
   ]
  },
  {
   "cell_type": "raw",
   "id": "d440dd29-5fa5-4271-bc61-109a6797b8d1",
   "metadata": {},
   "source": [
    "From above the example of generator function"
   ]
  },
  {
   "cell_type": "raw",
   "id": "1f8826d7-c11f-4d4a-8368-9eed0ca6d7e0",
   "metadata": {},
   "source": [
    "Q5. Create a generator function for prime numbers less than 1000. Use the next() method to print the first 20 prime number ."
   ]
  },
  {
   "cell_type": "code",
   "execution_count": 30,
   "id": "2e05c1a5-9673-41ff-bc6b-56efbf0808c6",
   "metadata": {},
   "outputs": [],
   "source": [
    "def prime():\n",
    "    yield 2 \n",
    "    primes_list = [2]\n",
    "    for i in range(3,1000):\n",
    "        is_primes = True\n",
    "        for prime in primes_list:\n",
    "            if i % prime == 0:\n",
    "                    is_prime = False\n",
    "                    break\n",
    "                    if is_prime:\n",
    "                        primes_list.append(i)\n",
    "                        yield i\n",
    "                    \n",
    "                \n",
    "                \n",
    "        \n",
    "        \n",
    "        "
   ]
  },
  {
   "cell_type": "code",
   "execution_count": 43,
   "id": "f6518f39-d8d4-47db-a468-39ba4564d088",
   "metadata": {},
   "outputs": [],
   "source": [
    "prime_gen = prime()"
   ]
  },
  {
   "cell_type": "code",
   "execution_count": 48,
   "id": "1a8395c8-ee79-4c9d-90b1-28888debb8f6",
   "metadata": {},
   "outputs": [
    {
     "name": "stdout",
     "output_type": "stream",
     "text": [
      "<generator object prime at 0x7f7e84644510>\n",
      "<generator object prime at 0x7f7e84644510>\n",
      "<generator object prime at 0x7f7e84644510>\n",
      "<generator object prime at 0x7f7e84644510>\n",
      "<generator object prime at 0x7f7e84644510>\n",
      "<generator object prime at 0x7f7e84644510>\n",
      "<generator object prime at 0x7f7e84644510>\n",
      "<generator object prime at 0x7f7e84644510>\n",
      "<generator object prime at 0x7f7e84644510>\n",
      "<generator object prime at 0x7f7e84644510>\n",
      "<generator object prime at 0x7f7e84644510>\n",
      "<generator object prime at 0x7f7e84644510>\n",
      "<generator object prime at 0x7f7e84644510>\n",
      "<generator object prime at 0x7f7e84644510>\n",
      "<generator object prime at 0x7f7e84644510>\n",
      "<generator object prime at 0x7f7e84644510>\n",
      "<generator object prime at 0x7f7e84644510>\n",
      "<generator object prime at 0x7f7e84644510>\n",
      "<generator object prime at 0x7f7e84644510>\n",
      "<generator object prime at 0x7f7e84644510>\n"
     ]
    }
   ],
   "source": [
    "for i in range(20):\n",
    "    print((prime_gen))\n",
    "    "
   ]
  },
  {
   "cell_type": "raw",
   "id": "aaa2df15-512e-45f7-9bd2-bbac4bbfc888",
   "metadata": {},
   "source": [
    "SORRY SIR BUT I CAN'T DO THIS BECAUSE IN THIS TASK I AM \n",
    "CONFUSED TO HOW PERFORM THIS TASK."
   ]
  },
  {
   "cell_type": "raw",
   "id": "236b2443-0034-4a91-a948-ea2c7efad3c1",
   "metadata": {},
   "source": [
    "Q6. Write a python program to print the first 10 Fibonacci numbers using a while loop ."
   ]
  },
  {
   "cell_type": "code",
   "execution_count": 55,
   "id": "e3f4993d-6ca6-4026-a8a1-4569849c7af7",
   "metadata": {},
   "outputs": [],
   "source": [
    "def test(n):\n",
    "    a,b = 0,1\n",
    "    for i in range(n):\n",
    "        yield a \n",
    "        a,b = b , a+b"
   ]
  },
  {
   "cell_type": "code",
   "execution_count": 56,
   "id": "ca0aa841-561d-4f00-a93c-5315ab3ab4e3",
   "metadata": {},
   "outputs": [
    {
     "data": {
      "text/plain": [
       "<generator object test at 0x7f7e84647c30>"
      ]
     },
     "execution_count": 56,
     "metadata": {},
     "output_type": "execute_result"
    }
   ],
   "source": [
    "test(10)"
   ]
  },
  {
   "cell_type": "code",
   "execution_count": 57,
   "id": "efeec507-626f-405c-9cd4-1ffad682000f",
   "metadata": {},
   "outputs": [
    {
     "name": "stdout",
     "output_type": "stream",
     "text": [
      "0\n",
      "1\n",
      "1\n",
      "2\n",
      "3\n",
      "5\n",
      "8\n",
      "13\n",
      "21\n",
      "34\n"
     ]
    }
   ],
   "source": [
    "for i in test(10):\n",
    "    print(i)"
   ]
  },
  {
   "cell_type": "raw",
   "id": "e974f984-e049-44b9-b52f-b9ac8e32abe7",
   "metadata": {},
   "source": [
    "THIS IS FOR LOOP EXAMPLE NOW WE US TAKING WHILE LOOP EXAMPLE"
   ]
  },
  {
   "cell_type": "code",
   "execution_count": 64,
   "id": "dacbe1c7-91d2-40dd-928d-3d33f1dfddf5",
   "metadata": {},
   "outputs": [],
   "source": [
    "def test(n):\n",
    "    a,b = 0,1\n",
    "    count = 0\n",
    "    while count < n:\n",
    "        print(a)\n",
    "        a,b = b , a+b\n",
    "        count += 1\n",
    "        \n",
    "        \n",
    "        \n",
    "    "
   ]
  },
  {
   "cell_type": "code",
   "execution_count": 65,
   "id": "a4853964-e632-4498-9a4e-6110861e8d5f",
   "metadata": {},
   "outputs": [
    {
     "name": "stdout",
     "output_type": "stream",
     "text": [
      "0\n",
      "1\n",
      "1\n",
      "2\n",
      "3\n",
      "5\n",
      "8\n",
      "13\n",
      "21\n",
      "34\n"
     ]
    }
   ],
   "source": [
    "test(10)"
   ]
  },
  {
   "cell_type": "raw",
   "id": "f22a039f-0e86-4b5f-b63b-ff73eb436ceb",
   "metadata": {},
   "source": [
    "THIS IS PERFORMED BY WHILE LOOP"
   ]
  },
  {
   "cell_type": "raw",
   "id": "e8a8d6c1-b7d6-476c-8255-71e1d2a15566",
   "metadata": {},
   "source": [
    "Q7. Write a List Comprehension to iterate through the given string: ‘pwskills’.\n",
    "\n",
    "Expected output: ['p', 'w', 's', 'k', 'i', 'l', 'l', 's'] ."
   ]
  },
  {
   "cell_type": "code",
   "execution_count": 70,
   "id": "8a71cee1-a9c6-4e3e-9944-32a8bce0b3cf",
   "metadata": {},
   "outputs": [
    {
     "name": "stdout",
     "output_type": "stream",
     "text": [
      "[' PW SKILLS']\n"
     ]
    }
   ],
   "source": [
    "string = [\" PW SKILLS\"]\n",
    "output = [char for char in string]\n",
    "print(output)"
   ]
  },
  {
   "cell_type": "raw",
   "id": "1a0d2851-33db-4026-a170-6e89f9fbcbb9",
   "metadata": {},
   "source": [
    "Q8. Write a python program to check whether a given number is Palindrome or not using a while loop . "
   ]
  },
  {
   "cell_type": "code",
   "execution_count": 2,
   "id": "27eff408-b8c1-43a3-beea-e247051010da",
   "metadata": {},
   "outputs": [
    {
     "name": "stdin",
     "output_type": "stream",
     "text": [
      "please give a number :  10\n"
     ]
    }
   ],
   "source": [
    "n =  int(input(\"please give a number : \"))\n",
    "def reverse(num):\n",
    "    if num < 10:\n",
    "        return num\n",
    "    else:\n",
    "        return int(str(num%10) + str(reverse(num//10)))\n",
    "    def ispalindrome(num):\n",
    "        if num == reverse(num):\n",
    "            return 1\n",
    "        return 0 \n",
    "    if ispalindrome(n) == 1:\n",
    "        print(\"Given number is palindrome\")\n",
    "    else :\n",
    "        print(\"Given number is not palindrome\")\n",
    "        \n",
    "        \n",
    "    \n",
    "    "
   ]
  },
  {
   "cell_type": "raw",
   "id": "407fc1ec-0c6e-4b2a-b310-a39f5b675a70",
   "metadata": {},
   "source": [
    "Q. Write a code to print odd numbers from 1 to 100 using list comprehension.\n",
    "\n",
    "Note: Use a list comprehension to create a list from 1 to 100 and use another List comprehension to filter out odd number."
   ]
  },
  {
   "cell_type": "code",
   "execution_count": 7,
   "id": "1a90efa0-25c8-4752-b2cb-44134c1cc2c6",
   "metadata": {},
   "outputs": [
    {
     "data": {
      "text/plain": [
       "[1,\n",
       " 3,\n",
       " 5,\n",
       " 7,\n",
       " 9,\n",
       " 11,\n",
       " 13,\n",
       " 15,\n",
       " 17,\n",
       " 19,\n",
       " 21,\n",
       " 23,\n",
       " 25,\n",
       " 27,\n",
       " 29,\n",
       " 31,\n",
       " 33,\n",
       " 35,\n",
       " 37,\n",
       " 39,\n",
       " 41,\n",
       " 43,\n",
       " 45,\n",
       " 47,\n",
       " 49,\n",
       " 51,\n",
       " 53,\n",
       " 55,\n",
       " 57,\n",
       " 59,\n",
       " 61,\n",
       " 63,\n",
       " 65,\n",
       " 67,\n",
       " 69,\n",
       " 71,\n",
       " 73,\n",
       " 75,\n",
       " 77,\n",
       " 79,\n",
       " 81,\n",
       " 83,\n",
       " 85,\n",
       " 87,\n",
       " 89,\n",
       " 91,\n",
       " 93,\n",
       " 95,\n",
       " 97,\n",
       " 99]"
      ]
     },
     "execution_count": 7,
     "metadata": {},
     "output_type": "execute_result"
    }
   ],
   "source": [
    "[ odd for odd in range(1,100) if odd%2!=0]"
   ]
  },
  {
   "cell_type": "code",
   "execution_count": null,
   "id": "ae009f66-1fe7-4ecb-be2d-170328eb2a90",
   "metadata": {},
   "outputs": [],
   "source": []
  }
 ],
 "metadata": {
  "kernelspec": {
   "display_name": "Python 3 (ipykernel)",
   "language": "python",
   "name": "python3"
  },
  "language_info": {
   "codemirror_mode": {
    "name": "ipython",
    "version": 3
   },
   "file_extension": ".py",
   "mimetype": "text/x-python",
   "name": "python",
   "nbconvert_exporter": "python",
   "pygments_lexer": "ipython3",
   "version": "3.10.8"
  }
 },
 "nbformat": 4,
 "nbformat_minor": 5
}
